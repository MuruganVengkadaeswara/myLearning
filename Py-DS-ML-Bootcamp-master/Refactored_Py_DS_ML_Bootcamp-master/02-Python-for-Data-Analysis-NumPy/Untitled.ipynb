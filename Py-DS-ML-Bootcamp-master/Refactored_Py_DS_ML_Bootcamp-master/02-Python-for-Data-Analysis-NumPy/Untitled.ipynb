{
 "cells": [
  {
   "cell_type": "code",
   "execution_count": 1,
   "id": "697f6a4a",
   "metadata": {},
   "outputs": [],
   "source": [
    "import numpy as np"
   ]
  },
  {
   "cell_type": "code",
   "execution_count": 2,
   "id": "6ff18c65",
   "metadata": {},
   "outputs": [],
   "source": [
    "import pandas as pd"
   ]
  },
  {
   "cell_type": "code",
   "execution_count": 8,
   "id": "1f2bb9a9",
   "metadata": {},
   "outputs": [],
   "source": [
    "labels = ['a' , 'b' , 'c']\n",
    "my_data=[10,20,30]\n",
    "arr=np.array(my_data)\n",
    "d={'a' : 10 , 'b':20,'c':30}"
   ]
  },
  {
   "cell_type": "code",
   "execution_count": 11,
   "id": "0924592c",
   "metadata": {},
   "outputs": [
    {
     "data": {
      "text/plain": [
       "10    10\n",
       "20    20\n",
       "30    30\n",
       "dtype: int64"
      ]
     },
     "execution_count": 11,
     "metadata": {},
     "output_type": "execute_result"
    }
   ],
   "source": [
    "pd.Series(data = arr , index=arr)"
   ]
  },
  {
   "cell_type": "code",
   "execution_count": null,
   "id": "1790014d",
   "metadata": {},
   "outputs": [],
   "source": []
  }
 ],
 "metadata": {
  "kernelspec": {
   "display_name": "Python 3 (ipykernel)",
   "language": "python",
   "name": "python3"
  },
  "language_info": {
   "codemirror_mode": {
    "name": "ipython",
    "version": 3
   },
   "file_extension": ".py",
   "mimetype": "text/x-python",
   "name": "python",
   "nbconvert_exporter": "python",
   "pygments_lexer": "ipython3",
   "version": "3.10.9"
  }
 },
 "nbformat": 4,
 "nbformat_minor": 5
}
