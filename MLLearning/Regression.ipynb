{
 "cells": [
  {
   "cell_type": "markdown",
   "id": "38158d36-6344-4e3e-a88f-5b4c78a82e75",
   "metadata": {},
   "source": [
    "## Simple Linear regression"
   ]
  },
  {
   "cell_type": "code",
   "execution_count": null,
   "id": "96da5e2b-7668-4906-90c8-dc5c01330aaf",
   "metadata": {},
   "outputs": [],
   "source": []
  }
 ],
 "metadata": {
  "kernelspec": {
   "display_name": "Python 3 (ipykernel)",
   "language": "python",
   "name": "python3"
  },
  "language_info": {
   "codemirror_mode": {
    "name": "ipython",
    "version": 3
   },
   "file_extension": ".py",
   "mimetype": "text/x-python",
   "name": "python",
   "nbconvert_exporter": "python",
   "pygments_lexer": "ipython3",
   "version": "3.11.4"
  }
 },
 "nbformat": 4,
 "nbformat_minor": 5
}
