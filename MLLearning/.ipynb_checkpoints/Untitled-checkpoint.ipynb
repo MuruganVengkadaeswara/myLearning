{
 "cells": [
  {
   "cell_type": "code",
   "execution_count": null,
   "id": "d56e8509-5ec9-4c82-88ad-ca9bb81eb8a1",
   "metadata": {
    "tags": []
   },
   "outputs": [],
   "source": [
    "import numpy as np"
   ]
  },
  {
   "cell_type": "code",
   "execution_count": null,
   "id": "c874b263-627c-4a5a-8937-0671fea3bbea",
   "metadata": {},
   "outputs": [],
   "source": []
  }
 ],
 "metadata": {
  "kernelspec": {
   "display_name": "Python 3 (ipykernel)",
   "language": "python",
   "name": "python3"
  },
  "language_info": {
   "codemirror_mode": {
    "name": "ipython",
    "version": 3
   },
   "file_extension": ".py",
   "mimetype": "text/x-python",
   "name": "python",
   "nbconvert_exporter": "python",
   "pygments_lexer": "ipython3",
   "version": "3.10.13"
  }
 },
 "nbformat": 4,
 "nbformat_minor": 5
}
