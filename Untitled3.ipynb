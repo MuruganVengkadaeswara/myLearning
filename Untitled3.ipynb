{
 "cells": [
  {
   "cell_type": "code",
   "execution_count": 1,
   "id": "e3bf8ce5",
   "metadata": {},
   "outputs": [],
   "source": [
    "import pandas as pd\n"
   ]
  },
  {
   "cell_type": "code",
   "execution_count": 5,
   "id": "bcbd1d24",
   "metadata": {},
   "outputs": [],
   "source": [
    "data = pd.read_html(\"https://www.fdic.gov/resources/resolutions/bank-failures/failed-bank-list/\")"
   ]
  },
  {
   "cell_type": "code",
   "execution_count": 6,
   "id": "a1249297",
   "metadata": {},
   "outputs": [
    {
     "data": {
      "text/plain": [
       "[                         Bank NameBank           CityCity StateSt  CertCert  \\\n",
       " 0                       Signature Bank           New York      NY     57053   \n",
       " 1                  Silicon Valley Bank        Santa Clara      CA     24735   \n",
       " 2                    Almena State Bank             Almena      KS     15426   \n",
       " 3           First City Bank of Florida  Fort Walton Beach      FL     16748   \n",
       " 4                 The First State Bank      Barboursville      WV     14361   \n",
       " ..                                 ...                ...     ...       ...   \n",
       " 560                 Superior Bank, FSB           Hinsdale      IL     32646   \n",
       " 561                Malta National Bank              Malta      OH      6629   \n",
       " 562    First Alliance Bank & Trust Co.         Manchester      NH     34264   \n",
       " 563  National State Bank of Metropolis         Metropolis      IL      3815   \n",
       " 564                   Bank of Honolulu           Honolulu      HI     21029   \n",
       " \n",
       "                  Acquiring InstitutionAI Closing DateClosing  FundFund  \n",
       " 0                    Flagstar Bank, N.A.      March 12, 2023     10540  \n",
       " 1    First–Citizens Bank & Trust Company      March 10, 2023     10539  \n",
       " 2                            Equity Bank    October 23, 2020     10538  \n",
       " 3              United Fidelity Bank, fsb    October 16, 2020     10537  \n",
       " 4                         MVB Bank, Inc.       April 3, 2020     10536  \n",
       " ..                                   ...                 ...       ...  \n",
       " 560                Superior Federal, FSB       July 27, 2001      6004  \n",
       " 561                    North Valley Bank         May 3, 2001      4648  \n",
       " 562  Southern New Hampshire Bank & Trust    February 2, 2001      4647  \n",
       " 563              Banterra Bank of Marion   December 14, 2000      4646  \n",
       " 564                   Bank of the Orient    October 13, 2000      4645  \n",
       " \n",
       " [565 rows x 7 columns]]"
      ]
     },
     "execution_count": 6,
     "metadata": {},
     "output_type": "execute_result"
    }
   ],
   "source": [
    "data"
   ]
  },
  {
   "cell_type": "code",
   "execution_count": null,
   "id": "4de289c5",
   "metadata": {},
   "outputs": [],
   "source": []
  }
 ],
 "metadata": {
  "kernelspec": {
   "display_name": "Python 3 (ipykernel)",
   "language": "python",
   "name": "python3"
  },
  "language_info": {
   "codemirror_mode": {
    "name": "ipython",
    "version": 3
   },
   "file_extension": ".py",
   "mimetype": "text/x-python",
   "name": "python",
   "nbconvert_exporter": "python",
   "pygments_lexer": "ipython3",
   "version": "3.10.9"
  }
 },
 "nbformat": 4,
 "nbformat_minor": 5
}
